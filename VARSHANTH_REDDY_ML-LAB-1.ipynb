{
 "cells": [
  {
   "cell_type": "code",
   "execution_count": 1,
   "id": "b5eedc03-9e41-4c2e-bd61-b7184090fa0c",
   "metadata": {},
   "outputs": [
    {
     "name": "stdout",
     "output_type": "stream",
     "text": [
      "Number of pairs with sum equal to 10: 2\n"
     ]
    }
   ],
   "source": [
    "def count_pairs_with_sum(arr, target_sum):\n",
    "    count = 0\n",
    "    n = 0\n",
    "\n",
    "    for _ in arr:\n",
    "        n += 1\n",
    "    \n",
    "    for i in range(n):\n",
    "        for j in range(i + 1, n):\n",
    "            if arr[i] + arr[j] == target_sum:\n",
    "                count += 1\n",
    "                \n",
    "    return count\n",
    "\n",
    "\n",
    "arr = [2, 7, 4, 1, 3, 6]\n",
    "target_sum = 10\n",
    "print(\"Number of pairs with sum equal to {}: {}\".format(target_sum, count_pairs_with_sum(arr, target_sum)))"
   ]
  },
  {
   "cell_type": "code",
   "execution_count": 3,
   "id": "cf427128-1a0f-4a77-ba3d-b38520955273",
   "metadata": {},
   "outputs": [
    {
     "name": "stdin",
     "output_type": "stream",
     "text": [
      "Enter the size of the array:  5\n"
     ]
    },
    {
     "name": "stdout",
     "output_type": "stream",
     "text": [
      "Enter 5 real numbers:\n"
     ]
    },
    {
     "name": "stdin",
     "output_type": "stream",
     "text": [
      " 1\n",
      " 6\n",
      " -8\n",
      " 5\n",
      " 0\n"
     ]
    },
    {
     "name": "stdout",
     "output_type": "stream",
     "text": [
      "The range of the list is: 14.0\n"
     ]
    }
   ],
   "source": [
    " def find_range(arr):\n",
    "    \n",
    "    n = 0\n",
    "    for _ in arr:\n",
    "        n += 1\n",
    "    \n",
    "    \n",
    "    if n < 3:\n",
    "        return \"Range determination not possible\"\n",
    "    \n",
    "    \n",
    "    min_val = arr[0]\n",
    "    max_val = arr[0]\n",
    "    \n",
    "    \n",
    "    for i in range(1, n):\n",
    "        if arr[i] < min_val:\n",
    "            min_val = arr[i]\n",
    "        if arr[i] > max_val:\n",
    "            max_val = arr[i]\n",
    "    \n",
    "    \n",
    "    return max_val - min_val\n",
    "\n",
    "\n",
    "size = int(input(\"Enter the size of the array: \"))\n",
    "\n",
    "\n",
    "arr = []\n",
    "print(f\"Enter {size} real numbers:\")\n",
    "for _ in range(size):\n",
    "    value = float(input())\n",
    "    arr.append(value)\n",
    "\n",
    "\n",
    "range_value = find_range(arr)\n",
    "print(\"The range of the list is:\", range_value)\n"
   ]
  },
  {
   "cell_type": "code",
   "execution_count": 5,
   "id": "2593b9b2-dd63-49aa-9fb1-3a36082869f9",
   "metadata": {},
   "outputs": [
    {
     "name": "stdin",
     "output_type": "stream",
     "text": [
      "Enter the size of the square matrix:  2\n"
     ]
    },
    {
     "name": "stdout",
     "output_type": "stream",
     "text": [
      "Enter the elements of the 2x2 matrix row by row:\n"
     ]
    },
    {
     "name": "stdin",
     "output_type": "stream",
     "text": [
      " 1 2\n",
      " 3 4\n",
      "Enter the power m:  2\n"
     ]
    },
    {
     "name": "stdout",
     "output_type": "stream",
     "text": [
      "The matrix A^2 is:\n",
      "7 10\n",
      "15 22\n"
     ]
    }
   ],
   "source": [
    " def matrix_mult(A, B):\n",
    "    n = len(A)\n",
    "    \n",
    "    result = [[0 for _ in range(n)] for _ in range(n)]\n",
    "    \n",
    "    \n",
    "    for i in range(n):\n",
    "        for j in range(n):\n",
    "            for k in range(n):\n",
    "                result[i][j] += A[i][k] * B[k][j]\n",
    "    \n",
    "    return result\n",
    "\n",
    "def matrix_power(A, m):\n",
    "    n = len(A)\n",
    "    \n",
    "    result = [[1 if i == j else 0 for j in range(n)] for i in range(n)]\n",
    "    \n",
    "    \n",
    "    for _ in range(m):\n",
    "        result = matrix_mult(result, A)\n",
    "    \n",
    "    return result\n",
    "\n",
    "\n",
    "def print_matrix(matrix):\n",
    "    for row in matrix:\n",
    "        print(\" \".join(map(str, row)))\n",
    "\n",
    "\n",
    "size = int(input(\"Enter the size of the square matrix: \"))\n",
    "\n",
    "\n",
    "A = []\n",
    "print(f\"Enter the elements of the {size}x{size} matrix row by row:\")\n",
    "for _ in range(size):\n",
    "    row = list(map(int, input().split()))\n",
    "    A.append(row)\n",
    "\n",
    "\n",
    "m = int(input(\"Enter the power m: \"))\n",
    "\n",
    "\n",
    "result = matrix_power(A, m)\n",
    "\n",
    "\n",
    "print(f\"The matrix A^{m} is:\")\n",
    "print_matrix(result)\n"
   ]
  },
  {
   "cell_type": "code",
   "execution_count": 7,
   "id": "a98707d6-3bbb-42d9-aec3-ce448ade2ae3",
   "metadata": {},
   "outputs": [
    {
     "name": "stdin",
     "output_type": "stream",
     "text": [
      "Enter a string:  hippopotamus\n"
     ]
    },
    {
     "name": "stdout",
     "output_type": "stream",
     "text": [
      "The maximally occurring character is 'p' & occurrence count is 3.\n"
     ]
    }
   ],
   "source": [
    "def highest_occurrence_char(input_string):\n",
    "   \n",
    "    count_dict = {}\n",
    "    \n",
    "    \n",
    "    for char in input_string:\n",
    "       \n",
    "        if char.isalpha():\n",
    "            \n",
    "            char = char.lower()\n",
    "           \n",
    "            if char in count_dict:\n",
    "                count_dict[char] += 1\n",
    "            else:\n",
    "                count_dict[char] = 1\n",
    "    \n",
    "    \n",
    "    max_char = ''\n",
    "    max_count = 0\n",
    "    \n",
    "    \n",
    "    for char, count in count_dict.items():\n",
    "        if count > max_count:\n",
    "            max_char = char\n",
    "            max_count = count\n",
    "    \n",
    "    return max_char, max_count\n",
    "\n",
    "\n",
    "input_string = input(\"Enter a string: \")\n",
    "\n",
    "\n",
    "max_char, max_count = highest_occurrence_char(input_string)\n",
    "\n",
    "\n",
    "print(f\"The maximally occurring character is '{max_char}' & occurrence count is {max_count}.\")\n"
   ]
  },
  {
   "cell_type": "code",
   "execution_count": null,
   "id": "5cdf2c59-ccff-4eec-828c-3a843e1f96bf",
   "metadata": {},
   "outputs": [],
   "source": []
  }
 ],
 "metadata": {
  "kernelspec": {
   "display_name": "Python 3 (ipykernel)",
   "language": "python",
   "name": "python3"
  },
  "language_info": {
   "codemirror_mode": {
    "name": "ipython",
    "version": 3
   },
   "file_extension": ".py",
   "mimetype": "text/x-python",
   "name": "python",
   "nbconvert_exporter": "python",
   "pygments_lexer": "ipython3",
   "version": "3.12.4"
  }
 },
 "nbformat": 4,
 "nbformat_minor": 5
}
